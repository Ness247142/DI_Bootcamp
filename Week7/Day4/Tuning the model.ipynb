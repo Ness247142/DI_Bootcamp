{
 "cells": [
  {
   "cell_type": "code",
   "execution_count": 2,
   "metadata": {
    "ExecuteTime": {
     "end_time": "2021-02-24T10:11:09.788619Z",
     "start_time": "2021-02-24T10:11:09.628100Z"
    }
   },
   "outputs": [],
   "source": [
    "#from sklearn.neighbors import KNeighborsClassifier\n",
    "from sklearn.model_selection import train_test_split\n",
    "from sklearn.datasets import load_breast_cancer\n",
    "from sklearn.model_selection import GridSearchCV\n",
    "import pandas as pd\n",
    "import numpy as np\n",
    "import matplotlib.pyplot as plt\n",
    "from sklearn.linear_model import LinearRegression\n",
    "from sklearn.linear_model import LogisticRegression\n",
    "from sklearn.metrics import mean_absolute_error, mean_squared_error\n",
    "from sklearn.model_selection import train_test_split\n",
    "#import seaborn as sns"
   ]
  },
  {
   "cell_type": "code",
   "execution_count": 5,
   "metadata": {
    "ExecuteTime": {
     "end_time": "2021-02-24T10:13:05.579796Z",
     "start_time": "2021-02-24T10:13:04.920022Z"
    }
   },
   "outputs": [
    {
     "data": {
      "text/html": [
       "<div>\n",
       "<style scoped>\n",
       "    .dataframe tbody tr th:only-of-type {\n",
       "        vertical-align: middle;\n",
       "    }\n",
       "\n",
       "    .dataframe tbody tr th {\n",
       "        vertical-align: top;\n",
       "    }\n",
       "\n",
       "    .dataframe thead th {\n",
       "        text-align: right;\n",
       "    }\n",
       "</style>\n",
       "<table border=\"1\" class=\"dataframe\">\n",
       "  <thead>\n",
       "    <tr style=\"text-align: right;\">\n",
       "      <th></th>\n",
       "      <th>PassengerId</th>\n",
       "      <th>Survived</th>\n",
       "      <th>Pclass</th>\n",
       "      <th>Name</th>\n",
       "      <th>Sex</th>\n",
       "      <th>Age</th>\n",
       "      <th>SibSp</th>\n",
       "      <th>Parch</th>\n",
       "      <th>Ticket</th>\n",
       "      <th>Fare</th>\n",
       "      <th>Cabin</th>\n",
       "      <th>Embarked</th>\n",
       "    </tr>\n",
       "  </thead>\n",
       "  <tbody>\n",
       "    <tr>\n",
       "      <th>1</th>\n",
       "      <td>2</td>\n",
       "      <td>1</td>\n",
       "      <td>1</td>\n",
       "      <td>Cumings, Mrs. John Bradley (Florence Briggs Th...</td>\n",
       "      <td>female</td>\n",
       "      <td>38.0</td>\n",
       "      <td>1</td>\n",
       "      <td>0</td>\n",
       "      <td>PC 17599</td>\n",
       "      <td>71.2833</td>\n",
       "      <td>C85</td>\n",
       "      <td>C</td>\n",
       "    </tr>\n",
       "    <tr>\n",
       "      <th>3</th>\n",
       "      <td>4</td>\n",
       "      <td>1</td>\n",
       "      <td>1</td>\n",
       "      <td>Futrelle, Mrs. Jacques Heath (Lily May Peel)</td>\n",
       "      <td>female</td>\n",
       "      <td>35.0</td>\n",
       "      <td>1</td>\n",
       "      <td>0</td>\n",
       "      <td>113803</td>\n",
       "      <td>53.1000</td>\n",
       "      <td>C123</td>\n",
       "      <td>S</td>\n",
       "    </tr>\n",
       "    <tr>\n",
       "      <th>6</th>\n",
       "      <td>7</td>\n",
       "      <td>0</td>\n",
       "      <td>1</td>\n",
       "      <td>McCarthy, Mr. Timothy J</td>\n",
       "      <td>male</td>\n",
       "      <td>54.0</td>\n",
       "      <td>0</td>\n",
       "      <td>0</td>\n",
       "      <td>17463</td>\n",
       "      <td>51.8625</td>\n",
       "      <td>E46</td>\n",
       "      <td>S</td>\n",
       "    </tr>\n",
       "    <tr>\n",
       "      <th>10</th>\n",
       "      <td>11</td>\n",
       "      <td>1</td>\n",
       "      <td>3</td>\n",
       "      <td>Sandstrom, Miss. Marguerite Rut</td>\n",
       "      <td>female</td>\n",
       "      <td>4.0</td>\n",
       "      <td>1</td>\n",
       "      <td>1</td>\n",
       "      <td>PP 9549</td>\n",
       "      <td>16.7000</td>\n",
       "      <td>G6</td>\n",
       "      <td>S</td>\n",
       "    </tr>\n",
       "    <tr>\n",
       "      <th>11</th>\n",
       "      <td>12</td>\n",
       "      <td>1</td>\n",
       "      <td>1</td>\n",
       "      <td>Bonnell, Miss. Elizabeth</td>\n",
       "      <td>female</td>\n",
       "      <td>58.0</td>\n",
       "      <td>0</td>\n",
       "      <td>0</td>\n",
       "      <td>113783</td>\n",
       "      <td>26.5500</td>\n",
       "      <td>C103</td>\n",
       "      <td>S</td>\n",
       "    </tr>\n",
       "  </tbody>\n",
       "</table>\n",
       "</div>"
      ],
      "text/plain": [
       "    PassengerId  Survived  Pclass  \\\n",
       "1             2         1       1   \n",
       "3             4         1       1   \n",
       "6             7         0       1   \n",
       "10           11         1       3   \n",
       "11           12         1       1   \n",
       "\n",
       "                                                 Name     Sex   Age  SibSp  \\\n",
       "1   Cumings, Mrs. John Bradley (Florence Briggs Th...  female  38.0      1   \n",
       "3        Futrelle, Mrs. Jacques Heath (Lily May Peel)  female  35.0      1   \n",
       "6                             McCarthy, Mr. Timothy J    male  54.0      0   \n",
       "10                    Sandstrom, Miss. Marguerite Rut  female   4.0      1   \n",
       "11                           Bonnell, Miss. Elizabeth  female  58.0      0   \n",
       "\n",
       "    Parch    Ticket     Fare Cabin Embarked  \n",
       "1       0  PC 17599  71.2833   C85        C  \n",
       "3       0    113803  53.1000  C123        S  \n",
       "6       0     17463  51.8625   E46        S  \n",
       "10      1   PP 9549  16.7000    G6        S  \n",
       "11      0    113783  26.5500  C103        S  "
      ]
     },
     "execution_count": 5,
     "metadata": {},
     "output_type": "execute_result"
    }
   ],
   "source": [
    "titanic_df = pd.read_csv('https://raw.githubusercontent.com/datasciencedojo/datasets/master/titanic.csv').dropna()\n",
    "titanic_df.head()"
   ]
  },
  {
   "cell_type": "code",
   "execution_count": 6,
   "metadata": {
    "ExecuteTime": {
     "end_time": "2021-02-24T10:13:05.591063Z",
     "start_time": "2021-02-24T10:13:05.586277Z"
    }
   },
   "outputs": [],
   "source": [
    "X = titanic_df._get_numeric_data().drop(columns=\"Survived\")\n",
    "y = titanic_df.Survived"
   ]
  },
  {
   "cell_type": "code",
   "execution_count": 7,
   "metadata": {
    "ExecuteTime": {
     "end_time": "2021-02-24T10:13:08.229737Z",
     "start_time": "2021-02-24T10:13:08.205059Z"
    }
   },
   "outputs": [],
   "source": [
    "X_train, X_test, y_train, y_test = train_test_split(X, y, test_size=0.25)"
   ]
  },
  {
   "cell_type": "code",
   "execution_count": 10,
   "metadata": {
    "ExecuteTime": {
     "end_time": "2021-02-24T10:15:21.908690Z",
     "start_time": "2021-02-24T10:15:21.813818Z"
    }
   },
   "outputs": [
    {
     "data": {
      "text/html": [
       "<div>\n",
       "<style scoped>\n",
       "    .dataframe tbody tr th:only-of-type {\n",
       "        vertical-align: middle;\n",
       "    }\n",
       "\n",
       "    .dataframe tbody tr th {\n",
       "        vertical-align: top;\n",
       "    }\n",
       "\n",
       "    .dataframe thead th {\n",
       "        text-align: right;\n",
       "    }\n",
       "</style>\n",
       "<table border=\"1\" class=\"dataframe\">\n",
       "  <thead>\n",
       "    <tr style=\"text-align: right;\">\n",
       "      <th></th>\n",
       "      <th>PassengerId</th>\n",
       "      <th>Pclass</th>\n",
       "      <th>Age</th>\n",
       "      <th>SibSp</th>\n",
       "      <th>Parch</th>\n",
       "      <th>Fare</th>\n",
       "    </tr>\n",
       "  </thead>\n",
       "  <tbody>\n",
       "    <tr>\n",
       "      <th>292</th>\n",
       "      <td>293</td>\n",
       "      <td>2</td>\n",
       "      <td>36.0</td>\n",
       "      <td>0</td>\n",
       "      <td>0</td>\n",
       "      <td>12.8750</td>\n",
       "    </tr>\n",
       "    <tr>\n",
       "      <th>512</th>\n",
       "      <td>513</td>\n",
       "      <td>1</td>\n",
       "      <td>36.0</td>\n",
       "      <td>0</td>\n",
       "      <td>0</td>\n",
       "      <td>26.2875</td>\n",
       "    </tr>\n",
       "    <tr>\n",
       "      <th>627</th>\n",
       "      <td>628</td>\n",
       "      <td>1</td>\n",
       "      <td>21.0</td>\n",
       "      <td>0</td>\n",
       "      <td>0</td>\n",
       "      <td>77.9583</td>\n",
       "    </tr>\n",
       "    <tr>\n",
       "      <th>496</th>\n",
       "      <td>497</td>\n",
       "      <td>1</td>\n",
       "      <td>54.0</td>\n",
       "      <td>1</td>\n",
       "      <td>0</td>\n",
       "      <td>78.2667</td>\n",
       "    </tr>\n",
       "    <tr>\n",
       "      <th>291</th>\n",
       "      <td>292</td>\n",
       "      <td>1</td>\n",
       "      <td>19.0</td>\n",
       "      <td>1</td>\n",
       "      <td>0</td>\n",
       "      <td>91.0792</td>\n",
       "    </tr>\n",
       "    <tr>\n",
       "      <th>...</th>\n",
       "      <td>...</td>\n",
       "      <td>...</td>\n",
       "      <td>...</td>\n",
       "      <td>...</td>\n",
       "      <td>...</td>\n",
       "      <td>...</td>\n",
       "    </tr>\n",
       "    <tr>\n",
       "      <th>887</th>\n",
       "      <td>888</td>\n",
       "      <td>1</td>\n",
       "      <td>19.0</td>\n",
       "      <td>0</td>\n",
       "      <td>0</td>\n",
       "      <td>30.0000</td>\n",
       "    </tr>\n",
       "    <tr>\n",
       "      <th>257</th>\n",
       "      <td>258</td>\n",
       "      <td>1</td>\n",
       "      <td>30.0</td>\n",
       "      <td>0</td>\n",
       "      <td>0</td>\n",
       "      <td>86.5000</td>\n",
       "    </tr>\n",
       "    <tr>\n",
       "      <th>174</th>\n",
       "      <td>175</td>\n",
       "      <td>1</td>\n",
       "      <td>56.0</td>\n",
       "      <td>0</td>\n",
       "      <td>0</td>\n",
       "      <td>30.6958</td>\n",
       "    </tr>\n",
       "    <tr>\n",
       "      <th>781</th>\n",
       "      <td>782</td>\n",
       "      <td>1</td>\n",
       "      <td>17.0</td>\n",
       "      <td>1</td>\n",
       "      <td>0</td>\n",
       "      <td>57.0000</td>\n",
       "    </tr>\n",
       "    <tr>\n",
       "      <th>193</th>\n",
       "      <td>194</td>\n",
       "      <td>2</td>\n",
       "      <td>3.0</td>\n",
       "      <td>1</td>\n",
       "      <td>1</td>\n",
       "      <td>26.0000</td>\n",
       "    </tr>\n",
       "  </tbody>\n",
       "</table>\n",
       "<p>137 rows × 6 columns</p>\n",
       "</div>"
      ],
      "text/plain": [
       "     PassengerId  Pclass   Age  SibSp  Parch     Fare\n",
       "292          293       2  36.0      0      0  12.8750\n",
       "512          513       1  36.0      0      0  26.2875\n",
       "627          628       1  21.0      0      0  77.9583\n",
       "496          497       1  54.0      1      0  78.2667\n",
       "291          292       1  19.0      1      0  91.0792\n",
       "..           ...     ...   ...    ...    ...      ...\n",
       "887          888       1  19.0      0      0  30.0000\n",
       "257          258       1  30.0      0      0  86.5000\n",
       "174          175       1  56.0      0      0  30.6958\n",
       "781          782       1  17.0      1      0  57.0000\n",
       "193          194       2   3.0      1      1  26.0000\n",
       "\n",
       "[137 rows x 6 columns]"
      ]
     },
     "execution_count": 10,
     "metadata": {},
     "output_type": "execute_result"
    }
   ],
   "source": [
    "X_train"
   ]
  },
  {
   "cell_type": "code",
   "execution_count": 19,
   "metadata": {
    "ExecuteTime": {
     "end_time": "2021-02-24T10:25:00.719597Z",
     "start_time": "2021-02-24T10:25:00.701516Z"
    }
   },
   "outputs": [],
   "source": [
    "hyperparameters = {'C':[0.0001, 0.001 , 0.01 , 0.1 , 1 , 10, 100],\n",
    "                  \"max_iter\":[1000, 500, 100] }"
   ]
  },
  {
   "cell_type": "code",
   "execution_count": 20,
   "metadata": {
    "ExecuteTime": {
     "end_time": "2021-02-24T10:25:03.564247Z",
     "start_time": "2021-02-24T10:25:03.560135Z"
    }
   },
   "outputs": [],
   "source": [
    "log = LogisticRegression()"
   ]
  },
  {
   "cell_type": "code",
   "execution_count": 21,
   "metadata": {
    "ExecuteTime": {
     "end_time": "2021-02-24T10:25:09.463457Z",
     "start_time": "2021-02-24T10:25:09.434705Z"
    }
   },
   "outputs": [],
   "source": [
    "gs = GridSearchCV(log, hyperparameters, cv=5, n_jobs=-1,  scoring = 'accuracy')"
   ]
  },
  {
   "cell_type": "code",
   "execution_count": 22,
   "metadata": {
    "ExecuteTime": {
     "end_time": "2021-02-24T10:25:21.631706Z",
     "start_time": "2021-02-24T10:25:15.233384Z"
    }
   },
   "outputs": [
    {
     "data": {
      "text/plain": [
       "GridSearchCV(cv=5, error_score=nan,\n",
       "             estimator=LogisticRegression(C=1.0, class_weight=None, dual=False,\n",
       "                                          fit_intercept=True,\n",
       "                                          intercept_scaling=1, l1_ratio=None,\n",
       "                                          max_iter=100, multi_class='auto',\n",
       "                                          n_jobs=None, penalty='l2',\n",
       "                                          random_state=None, solver='lbfgs',\n",
       "                                          tol=0.0001, verbose=0,\n",
       "                                          warm_start=False),\n",
       "             iid='deprecated', n_jobs=-1,\n",
       "             param_grid={'C': [0.0001, 0.001, 0.01, 0.1, 1, 10, 100],\n",
       "                         'max_iter': [1000, 500, 100]},\n",
       "             pre_dispatch='2*n_jobs', refit=True, return_train_score=False,\n",
       "             scoring='accuracy', verbose=0)"
      ]
     },
     "execution_count": 22,
     "metadata": {},
     "output_type": "execute_result"
    }
   ],
   "source": [
    "gs.fit(X_train, y_train)"
   ]
  },
  {
   "cell_type": "code",
   "execution_count": 23,
   "metadata": {
    "ExecuteTime": {
     "end_time": "2021-02-24T10:25:28.079744Z",
     "start_time": "2021-02-24T10:25:28.062017Z"
    }
   },
   "outputs": [
    {
     "data": {
      "text/plain": [
       "{'mean_fit_time': array([0.29405799, 0.02347379, 0.04087477, 0.06488719, 0.03746347,\n",
       "        0.04128346, 0.07589159, 0.09985709, 0.10280805, 0.07264442,\n",
       "        0.0734786 , 0.08620157, 0.10962906, 0.14392176, 0.12269921,\n",
       "        0.06839695, 0.07323155, 0.05909262, 0.04218812, 0.04358897,\n",
       "        0.04069734]),\n",
       " 'std_fit_time': array([0.13553935, 0.00700155, 0.02450088, 0.02700606, 0.00681839,\n",
       "        0.02504925, 0.02251899, 0.05933815, 0.08363368, 0.01688858,\n",
       "        0.01686313, 0.04726182, 0.06995557, 0.05091126, 0.04119864,\n",
       "        0.02700844, 0.02319422, 0.03339429, 0.01202817, 0.0252642 ,\n",
       "        0.01497082]),\n",
       " 'mean_score_time': array([0.00206342, 0.00305772, 0.00225468, 0.00186391, 0.00173311,\n",
       "        0.00256224, 0.01640658, 0.02678847, 0.00210147, 0.00492654,\n",
       "        0.00543895, 0.00263286, 0.00162215, 0.0017024 , 0.01170859,\n",
       "        0.01367588, 0.00302396, 0.002807  , 0.0012814 , 0.00148149,\n",
       "        0.00204263]),\n",
       " 'std_score_time': array([0.00086249, 0.00183117, 0.00080211, 0.00077319, 0.0003025 ,\n",
       "        0.00092276, 0.01960006, 0.0300687 , 0.00051739, 0.0045949 ,\n",
       "        0.00452815, 0.00178696, 0.00023232, 0.00022566, 0.02045919,\n",
       "        0.02286115, 0.0025448 , 0.001184  , 0.00021214, 0.00020255,\n",
       "        0.00058347]),\n",
       " 'param_C': masked_array(data=[0.0001, 0.0001, 0.0001, 0.001, 0.001, 0.001, 0.01,\n",
       "                    0.01, 0.01, 0.1, 0.1, 0.1, 1, 1, 1, 10, 10, 10, 100,\n",
       "                    100, 100],\n",
       "              mask=[False, False, False, False, False, False, False, False,\n",
       "                    False, False, False, False, False, False, False, False,\n",
       "                    False, False, False, False, False],\n",
       "        fill_value='?',\n",
       "             dtype=object),\n",
       " 'param_max_iter': masked_array(data=[1000, 500, 100, 1000, 500, 100, 1000, 500, 100, 1000,\n",
       "                    500, 100, 1000, 500, 100, 1000, 500, 100, 1000, 500,\n",
       "                    100],\n",
       "              mask=[False, False, False, False, False, False, False, False,\n",
       "                    False, False, False, False, False, False, False, False,\n",
       "                    False, False, False, False, False],\n",
       "        fill_value='?',\n",
       "             dtype=object),\n",
       " 'params': [{'C': 0.0001, 'max_iter': 1000},\n",
       "  {'C': 0.0001, 'max_iter': 500},\n",
       "  {'C': 0.0001, 'max_iter': 100},\n",
       "  {'C': 0.001, 'max_iter': 1000},\n",
       "  {'C': 0.001, 'max_iter': 500},\n",
       "  {'C': 0.001, 'max_iter': 100},\n",
       "  {'C': 0.01, 'max_iter': 1000},\n",
       "  {'C': 0.01, 'max_iter': 500},\n",
       "  {'C': 0.01, 'max_iter': 100},\n",
       "  {'C': 0.1, 'max_iter': 1000},\n",
       "  {'C': 0.1, 'max_iter': 500},\n",
       "  {'C': 0.1, 'max_iter': 100},\n",
       "  {'C': 1, 'max_iter': 1000},\n",
       "  {'C': 1, 'max_iter': 500},\n",
       "  {'C': 1, 'max_iter': 100},\n",
       "  {'C': 10, 'max_iter': 1000},\n",
       "  {'C': 10, 'max_iter': 500},\n",
       "  {'C': 10, 'max_iter': 100},\n",
       "  {'C': 100, 'max_iter': 1000},\n",
       "  {'C': 100, 'max_iter': 500},\n",
       "  {'C': 100, 'max_iter': 100}],\n",
       " 'split0_test_score': array([0.71428571, 0.71428571, 0.71428571, 0.71428571, 0.71428571,\n",
       "        0.71428571, 0.71428571, 0.71428571, 0.71428571, 0.71428571,\n",
       "        0.71428571, 0.71428571, 0.71428571, 0.71428571, 0.71428571,\n",
       "        0.71428571, 0.71428571, 0.71428571, 0.71428571, 0.71428571,\n",
       "        0.71428571]),\n",
       " 'split1_test_score': array([0.71428571, 0.71428571, 0.71428571, 0.71428571, 0.71428571,\n",
       "        0.71428571, 0.75      , 0.75      , 0.75      , 0.71428571,\n",
       "        0.71428571, 0.71428571, 0.60714286, 0.60714286, 0.60714286,\n",
       "        0.60714286, 0.60714286, 0.60714286, 0.60714286, 0.60714286,\n",
       "        0.60714286]),\n",
       " 'split2_test_score': array([0.7037037 , 0.7037037 , 0.7037037 , 0.66666667, 0.66666667,\n",
       "        0.66666667, 0.66666667, 0.66666667, 0.66666667, 0.66666667,\n",
       "        0.66666667, 0.66666667, 0.66666667, 0.66666667, 0.66666667,\n",
       "        0.66666667, 0.66666667, 0.66666667, 0.66666667, 0.66666667,\n",
       "        0.66666667]),\n",
       " 'split3_test_score': array([0.62962963, 0.62962963, 0.62962963, 0.62962963, 0.62962963,\n",
       "        0.62962963, 0.62962963, 0.62962963, 0.62962963, 0.62962963,\n",
       "        0.62962963, 0.62962963, 0.51851852, 0.51851852, 0.51851852,\n",
       "        0.51851852, 0.51851852, 0.51851852, 0.51851852, 0.51851852,\n",
       "        0.51851852]),\n",
       " 'split4_test_score': array([0.74074074, 0.74074074, 0.74074074, 0.7037037 , 0.7037037 ,\n",
       "        0.7037037 , 0.7037037 , 0.7037037 , 0.7037037 , 0.7037037 ,\n",
       "        0.7037037 , 0.7037037 , 0.74074074, 0.74074074, 0.74074074,\n",
       "        0.74074074, 0.74074074, 0.74074074, 0.74074074, 0.74074074,\n",
       "        0.74074074]),\n",
       " 'mean_test_score': array([0.7005291 , 0.7005291 , 0.7005291 , 0.68571429, 0.68571429,\n",
       "        0.68571429, 0.69285714, 0.69285714, 0.69285714, 0.68571429,\n",
       "        0.68571429, 0.68571429, 0.6494709 , 0.6494709 , 0.6494709 ,\n",
       "        0.6494709 , 0.6494709 , 0.6494709 , 0.6494709 , 0.6494709 ,\n",
       "        0.6494709 ]),\n",
       " 'std_test_score': array([0.03750274, 0.03750274, 0.03750274, 0.03305926, 0.03305926,\n",
       "        0.03305926, 0.04129358, 0.04129358, 0.04129358, 0.03305926,\n",
       "        0.03305926, 0.03305926, 0.07970825, 0.07970825, 0.07970825,\n",
       "        0.07970825, 0.07970825, 0.07970825, 0.07970825, 0.07970825,\n",
       "        0.07970825]),\n",
       " 'rank_test_score': array([ 1,  1,  1,  7,  7,  7,  4,  4,  4,  7,  7,  7, 13, 13, 13, 13, 13,\n",
       "        13, 13, 13, 13], dtype=int32)}"
      ]
     },
     "execution_count": 23,
     "metadata": {},
     "output_type": "execute_result"
    }
   ],
   "source": [
    "gs.cv_results_"
   ]
  },
  {
   "cell_type": "code",
   "execution_count": 25,
   "metadata": {
    "ExecuteTime": {
     "end_time": "2021-02-24T10:26:14.077129Z",
     "start_time": "2021-02-24T10:26:14.060989Z"
    }
   },
   "outputs": [
    {
     "data": {
      "text/plain": [
       "array([0.7005291 , 0.7005291 , 0.7005291 , 0.68571429, 0.68571429,\n",
       "       0.68571429, 0.69285714, 0.69285714, 0.69285714, 0.68571429,\n",
       "       0.68571429, 0.68571429, 0.6494709 , 0.6494709 , 0.6494709 ,\n",
       "       0.6494709 , 0.6494709 , 0.6494709 , 0.6494709 , 0.6494709 ,\n",
       "       0.6494709 ])"
      ]
     },
     "execution_count": 25,
     "metadata": {},
     "output_type": "execute_result"
    }
   ],
   "source": [
    "gs.cv_results_['mean_test_score']"
   ]
  },
  {
   "cell_type": "code",
   "execution_count": 26,
   "metadata": {
    "ExecuteTime": {
     "end_time": "2021-02-24T10:26:16.803404Z",
     "start_time": "2021-02-24T10:26:16.765970Z"
    }
   },
   "outputs": [
    {
     "data": {
      "text/plain": [
       "array([ 1,  1,  1,  7,  7,  7,  4,  4,  4,  7,  7,  7, 13, 13, 13, 13, 13,\n",
       "       13, 13, 13, 13], dtype=int32)"
      ]
     },
     "execution_count": 26,
     "metadata": {},
     "output_type": "execute_result"
    }
   ],
   "source": [
    "gs.cv_results_['rank_test_score']"
   ]
  },
  {
   "cell_type": "code",
   "execution_count": 24,
   "metadata": {
    "ExecuteTime": {
     "end_time": "2021-02-24T10:25:58.653795Z",
     "start_time": "2021-02-24T10:25:58.618824Z"
    }
   },
   "outputs": [
    {
     "data": {
      "text/plain": [
       "0.7005291005291004"
      ]
     },
     "execution_count": 24,
     "metadata": {},
     "output_type": "execute_result"
    }
   ],
   "source": [
    "gs.best_score_"
   ]
  },
  {
   "cell_type": "code",
   "execution_count": null,
   "metadata": {},
   "outputs": [],
   "source": [
    "gs.cv_results_['mean_test_score']\n",
    "array([0.9279615 , 0.94027325, 0.94025772, 0.94904518, 0.95081509, 0.95081509, 0.95433939])\n",
    "\n",
    ">>> gs.cv_results_['rank_test_score']\n",
    "array([7, 5, 6, 4, 2, 2, 1], dtype=int32)\n",
    "\n",
    ">>> clf.best_score_\n",
    "0.954"
   ]
  },
  {
   "cell_type": "code",
   "execution_count": null,
   "metadata": {},
   "outputs": [],
   "source": []
  }
 ],
 "metadata": {
  "kernelspec": {
   "display_name": "Python 3",
   "language": "python",
   "name": "python3"
  },
  "language_info": {
   "codemirror_mode": {
    "name": "ipython",
    "version": 3
   },
   "file_extension": ".py",
   "mimetype": "text/x-python",
   "name": "python",
   "nbconvert_exporter": "python",
   "pygments_lexer": "ipython3",
   "version": "3.6.8"
  },
  "toc": {
   "base_numbering": 1,
   "nav_menu": {},
   "number_sections": true,
   "sideBar": true,
   "skip_h1_title": false,
   "title_cell": "Table of Contents",
   "title_sidebar": "Contents",
   "toc_cell": false,
   "toc_position": {},
   "toc_section_display": true,
   "toc_window_display": false
  }
 },
 "nbformat": 4,
 "nbformat_minor": 4
}
