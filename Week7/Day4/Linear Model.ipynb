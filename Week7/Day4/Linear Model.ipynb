{
 "cells": [
  {
   "cell_type": "code",
   "execution_count": 72,
   "metadata": {
    "ExecuteTime": {
     "end_time": "2021-02-24T08:55:41.539968Z",
     "start_time": "2021-02-24T08:55:41.513539Z"
    }
   },
   "outputs": [],
   "source": [
    "#from sklearn.neighbors import KNeighborsClassifier\n",
    "from sklearn.model_selection import train_test_split\n",
    "import pandas as pd\n",
    "import numpy as np\n",
    "import matplotlib.pyplot as plt\n",
    "from sklearn.linear_model import LinearRegression\n",
    "from sklearn.linear_model import LogisticRegression\n",
    "from sklearn.metrics import mean_absolute_error, mean_squared_error\n",
    "#import seaborn as sns"
   ]
  },
  {
   "cell_type": "markdown",
   "metadata": {},
   "source": [
    "## Linear Regression"
   ]
  },
  {
   "cell_type": "code",
   "execution_count": 80,
   "metadata": {
    "ExecuteTime": {
     "end_time": "2021-02-24T09:19:34.066847Z",
     "start_time": "2021-02-24T09:19:34.038841Z"
    }
   },
   "outputs": [],
   "source": [
    "X = np.array([153.13997026, 190, 207.27306575, 107.62808216, 181.1233388 ,\n",
    "       218.16311494, 126.10178328, 139.37569078])\n",
    "\n",
    "y = np.array([ 78.05750996, 56 ,  81.97445319,  55.21427133, 102.70227473,\n",
    "       114.95751681, 64.09327804,  77.02841312])"
   ]
  },
  {
   "cell_type": "code",
   "execution_count": 81,
   "metadata": {
    "ExecuteTime": {
     "end_time": "2021-02-24T09:19:34.263886Z",
     "start_time": "2021-02-24T09:19:34.247296Z"
    }
   },
   "outputs": [
    {
     "data": {
      "text/html": [
       "<div>\n",
       "<style scoped>\n",
       "    .dataframe tbody tr th:only-of-type {\n",
       "        vertical-align: middle;\n",
       "    }\n",
       "\n",
       "    .dataframe tbody tr th {\n",
       "        vertical-align: top;\n",
       "    }\n",
       "\n",
       "    .dataframe thead th {\n",
       "        text-align: right;\n",
       "    }\n",
       "</style>\n",
       "<table border=\"1\" class=\"dataframe\">\n",
       "  <thead>\n",
       "    <tr style=\"text-align: right;\">\n",
       "      <th></th>\n",
       "      <th>Height</th>\n",
       "      <th>Weight</th>\n",
       "    </tr>\n",
       "  </thead>\n",
       "  <tbody>\n",
       "    <tr>\n",
       "      <th>0</th>\n",
       "      <td>153.139970</td>\n",
       "      <td>78.057510</td>\n",
       "    </tr>\n",
       "    <tr>\n",
       "      <th>1</th>\n",
       "      <td>190.000000</td>\n",
       "      <td>56.000000</td>\n",
       "    </tr>\n",
       "    <tr>\n",
       "      <th>2</th>\n",
       "      <td>207.273066</td>\n",
       "      <td>81.974453</td>\n",
       "    </tr>\n",
       "    <tr>\n",
       "      <th>3</th>\n",
       "      <td>107.628082</td>\n",
       "      <td>55.214271</td>\n",
       "    </tr>\n",
       "    <tr>\n",
       "      <th>4</th>\n",
       "      <td>181.123339</td>\n",
       "      <td>102.702275</td>\n",
       "    </tr>\n",
       "    <tr>\n",
       "      <th>5</th>\n",
       "      <td>218.163115</td>\n",
       "      <td>114.957517</td>\n",
       "    </tr>\n",
       "    <tr>\n",
       "      <th>6</th>\n",
       "      <td>126.101783</td>\n",
       "      <td>64.093278</td>\n",
       "    </tr>\n",
       "    <tr>\n",
       "      <th>7</th>\n",
       "      <td>139.375691</td>\n",
       "      <td>77.028413</td>\n",
       "    </tr>\n",
       "  </tbody>\n",
       "</table>\n",
       "</div>"
      ],
      "text/plain": [
       "       Height      Weight\n",
       "0  153.139970   78.057510\n",
       "1  190.000000   56.000000\n",
       "2  207.273066   81.974453\n",
       "3  107.628082   55.214271\n",
       "4  181.123339  102.702275\n",
       "5  218.163115  114.957517\n",
       "6  126.101783   64.093278\n",
       "7  139.375691   77.028413"
      ]
     },
     "execution_count": 81,
     "metadata": {},
     "output_type": "execute_result"
    }
   ],
   "source": [
    "df = pd.DataFrame([X, y]).T\n",
    "df.columns = [\"Height\", \"Weight\"]\n",
    "df"
   ]
  },
  {
   "cell_type": "code",
   "execution_count": 28,
   "metadata": {
    "ExecuteTime": {
     "end_time": "2021-02-24T08:14:20.476830Z",
     "start_time": "2021-02-24T08:14:20.472815Z"
    }
   },
   "outputs": [],
   "source": [
    "X = df.Height\n",
    "y = df.Weight"
   ]
  },
  {
   "cell_type": "code",
   "execution_count": null,
   "metadata": {},
   "outputs": [],
   "source": [
    "[3,4,5,6] 1D"
   ]
  },
  {
   "cell_type": "code",
   "execution_count": null,
   "metadata": {},
   "outputs": [],
   "source": [
    "[\n",
    "    [2,3,4],\n",
    "    [3,4,5]\n",
    "]"
   ]
  },
  {
   "cell_type": "code",
   "execution_count": null,
   "metadata": {},
   "outputs": [],
   "source": [
    "[\n",
    "    [153.13997026, 207.27306575, 107.62808216, 181.1233388 ,\n",
    "       218.16311494, 126.10178328, 139.37569078]\n",
    "]"
   ]
  },
  {
   "cell_type": "code",
   "execution_count": 16,
   "metadata": {
    "ExecuteTime": {
     "end_time": "2021-02-24T08:02:35.161207Z",
     "start_time": "2021-02-24T08:02:35.156245Z"
    }
   },
   "outputs": [
    {
     "data": {
      "text/plain": [
       "array([153.13997026, 207.27306575, 107.62808216, 181.1233388 ,\n",
       "       218.16311494, 126.10178328, 139.37569078])"
      ]
     },
     "execution_count": 16,
     "metadata": {},
     "output_type": "execute_result"
    }
   ],
   "source": [
    "X.values"
   ]
  },
  {
   "cell_type": "code",
   "execution_count": 84,
   "metadata": {
    "ExecuteTime": {
     "end_time": "2021-02-24T09:19:51.341427Z",
     "start_time": "2021-02-24T09:19:51.336711Z"
    }
   },
   "outputs": [],
   "source": [
    "X_train, X_test, y_train, y_test = X[:6], X[6:],  y[:6], y[6:]"
   ]
  },
  {
   "cell_type": "code",
   "execution_count": 85,
   "metadata": {
    "ExecuteTime": {
     "end_time": "2021-02-24T09:19:51.734978Z",
     "start_time": "2021-02-24T09:19:51.725482Z"
    }
   },
   "outputs": [
    {
     "data": {
      "text/plain": [
       "((6,), (2,), (6,), (2,))"
      ]
     },
     "execution_count": 85,
     "metadata": {},
     "output_type": "execute_result"
    }
   ],
   "source": [
    "X_train.shape, X_test.shape, y_train.shape, y_test.shape"
   ]
  },
  {
   "cell_type": "code",
   "execution_count": 86,
   "metadata": {
    "ExecuteTime": {
     "end_time": "2021-02-24T09:19:53.333222Z",
     "start_time": "2021-02-24T09:19:53.329848Z"
    }
   },
   "outputs": [],
   "source": [
    "lr = LinearRegression()\n",
    "    "
   ]
  },
  {
   "cell_type": "code",
   "execution_count": 87,
   "metadata": {
    "ExecuteTime": {
     "end_time": "2021-02-24T09:19:53.859424Z",
     "start_time": "2021-02-24T09:19:53.853889Z"
    }
   },
   "outputs": [],
   "source": [
    "reg = lr.fit(X_train.reshape((-1,1)), y_train)"
   ]
  },
  {
   "cell_type": "code",
   "execution_count": 88,
   "metadata": {
    "ExecuteTime": {
     "end_time": "2021-02-24T09:19:56.057573Z",
     "start_time": "2021-02-24T09:19:56.052493Z"
    }
   },
   "outputs": [
    {
     "data": {
      "text/plain": [
       "array([0.37346344])"
      ]
     },
     "execution_count": 88,
     "metadata": {},
     "output_type": "execute_result"
    }
   ],
   "source": [
    "reg.coef_"
   ]
  },
  {
   "cell_type": "code",
   "execution_count": 89,
   "metadata": {
    "ExecuteTime": {
     "end_time": "2021-02-24T09:19:56.885759Z",
     "start_time": "2021-02-24T09:19:56.873263Z"
    }
   },
   "outputs": [
    {
     "data": {
      "text/plain": [
       "15.672139490512421"
      ]
     },
     "execution_count": 89,
     "metadata": {},
     "output_type": "execute_result"
    }
   ],
   "source": [
    "reg.intercept_"
   ]
  },
  {
   "cell_type": "code",
   "execution_count": null,
   "metadata": {},
   "outputs": [],
   "source": [
    "y = mx + b, m is slope, b is the intercept"
   ]
  },
  {
   "cell_type": "code",
   "execution_count": null,
   "metadata": {},
   "outputs": [],
   "source": [
    "A = [2,3,4], B =[1,2,3]"
   ]
  },
  {
   "cell_type": "code",
   "execution_count": null,
   "metadata": {},
   "outputs": [],
   "source": [
    "2 , 1\n",
    "2, 2\n",
    "2, 3\n",
    "3, 1 \n",
    "3, 2"
   ]
  },
  {
   "cell_type": "code",
   "execution_count": 90,
   "metadata": {
    "ExecuteTime": {
     "end_time": "2021-02-24T09:20:01.916090Z",
     "start_time": "2021-02-24T09:20:01.867141Z"
    }
   },
   "outputs": [
    {
     "data": {
      "text/plain": [
       "array([100.        , 102.75510204, 105.51020408, 108.26530612,\n",
       "       111.02040816, 113.7755102 , 116.53061224, 119.28571429,\n",
       "       122.04081633, 124.79591837, 127.55102041, 130.30612245,\n",
       "       133.06122449, 135.81632653, 138.57142857, 141.32653061,\n",
       "       144.08163265, 146.83673469, 149.59183673, 152.34693878,\n",
       "       155.10204082, 157.85714286, 160.6122449 , 163.36734694,\n",
       "       166.12244898, 168.87755102, 171.63265306, 174.3877551 ,\n",
       "       177.14285714, 179.89795918, 182.65306122, 185.40816327,\n",
       "       188.16326531, 190.91836735, 193.67346939, 196.42857143,\n",
       "       199.18367347, 201.93877551, 204.69387755, 207.44897959,\n",
       "       210.20408163, 212.95918367, 215.71428571, 218.46938776,\n",
       "       221.2244898 , 223.97959184, 226.73469388, 229.48979592,\n",
       "       232.24489796, 235.        ])"
      ]
     },
     "execution_count": 90,
     "metadata": {},
     "output_type": "execute_result"
    }
   ],
   "source": [
    "line_x = np.linspace(100, 235)\n",
    "line_x"
   ]
  },
  {
   "cell_type": "code",
   "execution_count": 91,
   "metadata": {
    "ExecuteTime": {
     "end_time": "2021-02-24T09:20:04.681344Z",
     "start_time": "2021-02-24T09:20:04.673835Z"
    }
   },
   "outputs": [],
   "source": [
    "line_y = reg.coef_[0] * line_x + reg.intercept_\n"
   ]
  },
  {
   "cell_type": "code",
   "execution_count": 92,
   "metadata": {
    "ExecuteTime": {
     "end_time": "2021-02-24T09:20:05.060944Z",
     "start_time": "2021-02-24T09:20:05.056262Z"
    }
   },
   "outputs": [
    {
     "data": {
      "text/plain": [
       "((50,), (50,))"
      ]
     },
     "execution_count": 92,
     "metadata": {},
     "output_type": "execute_result"
    }
   ],
   "source": [
    "line_x.shape, line_y.shape"
   ]
  },
  {
   "cell_type": "code",
   "execution_count": 93,
   "metadata": {
    "ExecuteTime": {
     "end_time": "2021-02-24T09:20:11.196432Z",
     "start_time": "2021-02-24T09:20:10.817530Z"
    }
   },
   "outputs": [
    {
     "data": {
      "image/png": "[encoded data removed]",
      "text/plain": [
       "<Figure size 432x288 with 1 Axes>"
      ]
     },
     "metadata": {
      "needs_background": "light"
     },
     "output_type": "display_data"
    }
   ],
   "source": [
    "plt.scatter(X_train,y_train,s=None, marker='o',color='g')\n",
    "plt.scatter(X_test,y_test,s=None, marker='o',color='orange')\n",
    "#plot()\n",
    "plt.grid(color='black', linestyle='--', linewidth=0.5,markevery=int)\n",
    "plt.plot(line_x, line_y)\n",
    "\n",
    "plt.xlabel('height (cm)')\n",
    "\n",
    "plt.ylabel('weight (kg)')\n",
    "\n",
    "plt.show()"
   ]
  },
  {
   "cell_type": "code",
   "execution_count": 94,
   "metadata": {
    "ExecuteTime": {
     "end_time": "2021-02-24T09:21:19.087885Z",
     "start_time": "2021-02-24T09:21:18.975903Z"
    }
   },
   "outputs": [
    {
     "data": {
      "text/plain": [
       "array([62.76654489, 67.72386401])"
      ]
     },
     "execution_count": 94,
     "metadata": {},
     "output_type": "execute_result"
    }
   ],
   "source": [
    "y_pred = lr.predict(X_test.reshape((-1,1)))\n",
    "y_pred"
   ]
  },
  {
   "cell_type": "code",
   "execution_count": 95,
   "metadata": {
    "ExecuteTime": {
     "end_time": "2021-02-24T09:21:22.444700Z",
     "start_time": "2021-02-24T09:21:22.435951Z"
    }
   },
   "outputs": [
    {
     "data": {
      "text/plain": [
       "array([64.09327804, 77.02841312])"
      ]
     },
     "execution_count": 95,
     "metadata": {},
     "output_type": "execute_result"
    }
   ],
   "source": [
    "y_test"
   ]
  },
  {
   "cell_type": "code",
   "execution_count": 97,
   "metadata": {
    "ExecuteTime": {
     "end_time": "2021-02-24T09:21:38.555993Z",
     "start_time": "2021-02-24T09:21:38.546001Z"
    }
   },
   "outputs": [
    {
     "data": {
      "text/plain": [
       "44.167427511274305"
      ]
     },
     "execution_count": 97,
     "metadata": {},
     "output_type": "execute_result"
    }
   ],
   "source": [
    "mean_squared_error(y_test, y_pred)"
   ]
  },
  {
   "cell_type": "code",
   "execution_count": 76,
   "metadata": {
    "ExecuteTime": {
     "end_time": "2021-02-24T08:57:29.630555Z",
     "start_time": "2021-02-24T08:57:29.624141Z"
    }
   },
   "outputs": [
    {
     "data": {
      "text/plain": [
       "3.565950162865356"
      ]
     },
     "execution_count": 76,
     "metadata": {},
     "output_type": "execute_result"
    }
   ],
   "source": [
    "mean_absolute_error(y_test, y_pred)"
   ]
  },
  {
   "cell_type": "code",
   "execution_count": 77,
   "metadata": {
    "ExecuteTime": {
     "end_time": "2021-02-24T08:58:34.331122Z",
     "start_time": "2021-02-24T08:58:34.308134Z"
    }
   },
   "outputs": [
    {
     "data": {
      "text/plain": [
       "15.902320531954615"
      ]
     },
     "execution_count": 77,
     "metadata": {},
     "output_type": "execute_result"
    }
   ],
   "source": [
    "mean_squared_error(y_test, y_pred)"
   ]
  },
  {
   "cell_type": "code",
   "execution_count": null,
   "metadata": {},
   "outputs": [],
   "source": []
  },
  {
   "cell_type": "code",
   "execution_count": null,
   "metadata": {},
   "outputs": [],
   "source": [
    "180 -> model -> 90kg\n",
    "180 -> truth -> 92kg\n",
    "off by -2 -> MAE -> 2kg\n",
    "off by -2 -> MSE -> 4kg\n",
    "\n",
    "or \n",
    "180 -> model -> 87kg\n",
    "off by 5 -> MAE -> 5kg\n",
    "off by 5 -> MSE -> 25kg\n",
    "\n",
    "\n",
    "\n",
    "\n"
   ]
  },
  {
   "cell_type": "code",
   "execution_count": 40,
   "metadata": {
    "ExecuteTime": {
     "end_time": "2021-02-24T08:17:45.893976Z",
     "start_time": "2021-02-24T08:17:45.862908Z"
    }
   },
   "outputs": [
    {
     "data": {
      "text/plain": [
       "array([89.8493254 , 98.48450452])"
      ]
     },
     "execution_count": 40,
     "metadata": {},
     "output_type": "execute_result"
    }
   ],
   "source": [
    "lr.predict([[180], [200]])"
   ]
  },
  {
   "cell_type": "code",
   "execution_count": null,
   "metadata": {},
   "outputs": [],
   "source": []
  },
  {
   "cell_type": "code",
   "execution_count": null,
   "metadata": {},
   "outputs": [],
   "source": []
  },
  {
   "cell_type": "markdown",
   "metadata": {},
   "source": [
    "## Logistic Regression"
   ]
  },
  {
   "cell_type": "code",
   "execution_count": 41,
   "metadata": {
    "ExecuteTime": {
     "end_time": "2021-02-24T08:25:05.086967Z",
     "start_time": "2021-02-24T08:25:05.083509Z"
    }
   },
   "outputs": [],
   "source": [
    "X = np.array([153.13997026, 207.27306575, 107.62808216, 181.1233388 ,\n",
    "       218.16311494, 126.10178328, 139.37569078])\n",
    "y_gender= [\"M\", \"M\", \"F\", \"M\", \"M\",  \"F\", \"F\"]"
   ]
  },
  {
   "cell_type": "code",
   "execution_count": 42,
   "metadata": {
    "ExecuteTime": {
     "end_time": "2021-02-24T08:25:30.507659Z",
     "start_time": "2021-02-24T08:25:30.488015Z"
    }
   },
   "outputs": [
    {
     "data": {
      "text/html": [
       "<div>\n",
       "<style scoped>\n",
       "    .dataframe tbody tr th:only-of-type {\n",
       "        vertical-align: middle;\n",
       "    }\n",
       "\n",
       "    .dataframe tbody tr th {\n",
       "        vertical-align: top;\n",
       "    }\n",
       "\n",
       "    .dataframe thead th {\n",
       "        text-align: right;\n",
       "    }\n",
       "</style>\n",
       "<table border=\"1\" class=\"dataframe\">\n",
       "  <thead>\n",
       "    <tr style=\"text-align: right;\">\n",
       "      <th></th>\n",
       "      <th>Height</th>\n",
       "      <th>Gender</th>\n",
       "    </tr>\n",
       "  </thead>\n",
       "  <tbody>\n",
       "    <tr>\n",
       "      <th>0</th>\n",
       "      <td>153.14</td>\n",
       "      <td>M</td>\n",
       "    </tr>\n",
       "    <tr>\n",
       "      <th>1</th>\n",
       "      <td>207.273</td>\n",
       "      <td>M</td>\n",
       "    </tr>\n",
       "    <tr>\n",
       "      <th>2</th>\n",
       "      <td>107.628</td>\n",
       "      <td>F</td>\n",
       "    </tr>\n",
       "    <tr>\n",
       "      <th>3</th>\n",
       "      <td>181.123</td>\n",
       "      <td>M</td>\n",
       "    </tr>\n",
       "    <tr>\n",
       "      <th>4</th>\n",
       "      <td>218.163</td>\n",
       "      <td>M</td>\n",
       "    </tr>\n",
       "    <tr>\n",
       "      <th>5</th>\n",
       "      <td>126.102</td>\n",
       "      <td>F</td>\n",
       "    </tr>\n",
       "    <tr>\n",
       "      <th>6</th>\n",
       "      <td>139.376</td>\n",
       "      <td>F</td>\n",
       "    </tr>\n",
       "  </tbody>\n",
       "</table>\n",
       "</div>"
      ],
      "text/plain": [
       "    Height Gender\n",
       "0   153.14      M\n",
       "1  207.273      M\n",
       "2  107.628      F\n",
       "3  181.123      M\n",
       "4  218.163      M\n",
       "5  126.102      F\n",
       "6  139.376      F"
      ]
     },
     "execution_count": 42,
     "metadata": {},
     "output_type": "execute_result"
    }
   ],
   "source": [
    "df = pd.DataFrame([X, y_gender]).T\n",
    "df.columns = [\"Height\", \"Gender\"]\n",
    "df"
   ]
  },
  {
   "cell_type": "code",
   "execution_count": 44,
   "metadata": {
    "ExecuteTime": {
     "end_time": "2021-02-24T08:26:37.286910Z",
     "start_time": "2021-02-24T08:26:37.279274Z"
    }
   },
   "outputs": [],
   "source": [
    "clf = LogisticRegression()"
   ]
  },
  {
   "cell_type": "code",
   "execution_count": 49,
   "metadata": {
    "ExecuteTime": {
     "end_time": "2021-02-24T08:27:43.098839Z",
     "start_time": "2021-02-24T08:27:43.088226Z"
    }
   },
   "outputs": [
    {
     "data": {
      "text/plain": [
       "array([[153.13997026],\n",
       "       [207.27306575],\n",
       "       [107.62808216],\n",
       "       [181.1233388 ],\n",
       "       [218.16311494],\n",
       "       [126.10178328],\n",
       "       [139.37569078]])"
      ]
     },
     "execution_count": 49,
     "metadata": {},
     "output_type": "execute_result"
    }
   ],
   "source": [
    "X.reshape((-1,1))"
   ]
  },
  {
   "cell_type": "code",
   "execution_count": 51,
   "metadata": {
    "ExecuteTime": {
     "end_time": "2021-02-24T08:28:57.336971Z",
     "start_time": "2021-02-24T08:28:57.318467Z"
    }
   },
   "outputs": [],
   "source": [
    "result = clf.fit(X.reshape((-1,1)), y_gender)"
   ]
  },
  {
   "cell_type": "code",
   "execution_count": 53,
   "metadata": {
    "ExecuteTime": {
     "end_time": "2021-02-24T08:29:59.446023Z",
     "start_time": "2021-02-24T08:29:59.399626Z"
    }
   },
   "outputs": [
    {
     "data": {
      "text/plain": [
       "array(['F'], dtype='<U1')"
      ]
     },
     "execution_count": 53,
     "metadata": {},
     "output_type": "execute_result"
    }
   ],
   "source": [
    "clf.predict([[100]])"
   ]
  },
  {
   "cell_type": "code",
   "execution_count": 58,
   "metadata": {
    "ExecuteTime": {
     "end_time": "2021-02-24T08:33:56.101832Z",
     "start_time": "2021-02-24T08:33:56.070253Z"
    }
   },
   "outputs": [
    {
     "data": {
      "text/plain": [
       "array([[0.14141772, 0.85858228]])"
      ]
     },
     "execution_count": 58,
     "metadata": {},
     "output_type": "execute_result"
    }
   ],
   "source": [
    "clf.predict_proba([[150]])"
   ]
  },
  {
   "cell_type": "code",
   "execution_count": 55,
   "metadata": {
    "ExecuteTime": {
     "end_time": "2021-02-24T08:30:35.159247Z",
     "start_time": "2021-02-24T08:30:34.894600Z"
    }
   },
   "outputs": [
    {
     "data": {
      "image/png": "[encoded data removed]",
      "text/plain": [
       "<Figure size 432x288 with 1 Axes>"
      ]
     },
     "metadata": {
      "needs_background": "light"
     },
     "output_type": "display_data"
    }
   ],
   "source": [
    "plt.scatter(X,y_gender,s=None, marker='o',color='g')\n",
    "plt.show()"
   ]
  },
  {
   "cell_type": "code",
   "execution_count": null,
   "metadata": {},
   "outputs": [],
   "source": []
  }
 ],
 "metadata": {
  "kernelspec": {
   "display_name": "Python 3",
   "language": "python",
   "name": "python3"
  },
  "language_info": {
   "codemirror_mode": {
    "name": "ipython",
    "version": 3
   },
   "file_extension": ".py",
   "mimetype": "text/x-python",
   "name": "python",
   "nbconvert_exporter": "python",
   "pygments_lexer": "ipython3",
   "version": "3.6.8"
  },
  "toc": {
   "base_numbering": 1,
   "nav_menu": {},
   "number_sections": true,
   "sideBar": true,
   "skip_h1_title": false,
   "title_cell": "Table of Contents",
   "title_sidebar": "Contents",
   "toc_cell": false,
   "toc_position": {},
   "toc_section_display": true,
   "toc_window_display": false
  }
 },
 "nbformat": 4,
 "nbformat_minor": 4
}
