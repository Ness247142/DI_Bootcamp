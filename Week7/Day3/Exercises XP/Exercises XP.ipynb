{
 "cells": [
  {
   "cell_type": "code",
   "execution_count": 1,
   "metadata": {
    "ExecuteTime": {
     "end_time": "2021-02-23T10:09:02.605350Z",
     "start_time": "2021-02-23T10:09:02.601985Z"
    }
   },
   "outputs": [],
   "source": [
    "import numpy as np\n",
    "from sklearn.model_selection import train_test_split\n",
    "from numpy.linalg import norm #(a-b)"
   ]
  },
  {
   "cell_type": "code",
   "execution_count": 2,
   "metadata": {
    "ExecuteTime": {
     "end_time": "2021-02-23T10:05:03.904485Z",
     "start_time": "2021-02-23T10:05:03.895295Z"
    }
   },
   "outputs": [
    {
     "data": {
      "text/plain": [
       "array([[30,  5,  9],\n",
       "       [46, 41, 41],\n",
       "       [25, 21, 28],\n",
       "       [ 7, 46, 36],\n",
       "       [ 3, 48, 23],\n",
       "       [32, 38, 49],\n",
       "       [ 3, 17, 25],\n",
       "       [35, 22, 38],\n",
       "       [ 0,  0, 33],\n",
       "       [12, 36, 26]])"
      ]
     },
     "execution_count": 2,
     "metadata": {},
     "output_type": "execute_result"
    }
   ],
   "source": [
    "data = np.random.randint(0, 50, (10,3))\n",
    "data"
   ]
  },
  {
   "cell_type": "code",
   "execution_count": 17,
   "metadata": {
    "ExecuteTime": {
     "end_time": "2021-02-23T10:09:56.016816Z",
     "start_time": "2021-02-23T10:09:55.978355Z"
    }
   },
   "outputs": [
    {
     "data": {
      "text/plain": [
       "array([[46, 41],\n",
       "       [ 3, 17],\n",
       "       [30,  5],\n",
       "       [35, 22],\n",
       "       [ 0,  0],\n",
       "       [32, 38],\n",
       "       [25, 21],\n",
       "       [12, 36]])"
      ]
     },
     "execution_count": 17,
     "metadata": {},
     "output_type": "execute_result"
    }
   ],
   "source": [
    "X_train"
   ]
  },
  {
   "cell_type": "code",
   "execution_count": 18,
   "metadata": {
    "ExecuteTime": {
     "end_time": "2021-02-23T10:30:03.471007Z",
     "start_time": "2021-02-23T10:30:03.465430Z"
    }
   },
   "outputs": [
    {
     "data": {
      "text/plain": [
       "array([41, 25,  9, 38, 33, 49, 28, 26])"
      ]
     },
     "execution_count": 18,
     "metadata": {},
     "output_type": "execute_result"
    }
   ],
   "source": [
    "y_train"
   ]
  },
  {
   "cell_type": "code",
   "execution_count": 19,
   "metadata": {
    "ExecuteTime": {
     "end_time": "2021-02-23T10:07:02.614827Z",
     "start_time": "2021-02-23T10:07:02.608681Z"
    }
   },
   "outputs": [
    {
     "data": {
      "text/plain": [
       "array([[ 3, 48],\n",
       "       [ 7, 46]])"
      ]
     },
     "execution_count": 19,
     "metadata": {},
     "output_type": "execute_result"
    }
   ],
   "source": [
    "X_test"
   ]
  },
  {
   "cell_type": "code",
   "execution_count": 20,
   "metadata": {},
   "outputs": [
    {
     "data": {
      "text/plain": [
       "array([23, 36])"
      ]
     },
     "execution_count": 20,
     "metadata": {},
     "output_type": "execute_result"
    }
   ],
   "source": [
    "y_test"
   ]
  },
  {
   "cell_type": "code",
   "execution_count": 6,
   "metadata": {
    "ExecuteTime": {
     "end_time": "2021-02-23T10:31:32.721770Z",
     "start_time": "2021-02-23T10:31:32.710825Z"
    }
   },
   "outputs": [],
   "source": [
    "class KNNRegressor:\n",
    "    \n",
    "    def __init__(self, k):\n",
    "        self.k = k\n",
    "    \n",
    "    def fit(self, X, y):\n",
    "        self.X = X\n",
    "        self.y = y\n",
    "    \n",
    "    def predict(self, X_test):\n",
    "        #given (17,  1) loop thru \n",
    "        predictions = []\n",
    "        for x_test in X_test:\n",
    "            dist_list = []\n",
    "            for data_point in self.X:\n",
    "                dist = norm(x_test - data_point)\n",
    "                dist_list.append(dist)\n",
    "            indices = np.argpartition(dist_list, self.k)[:self.k]\n",
    "            y_train_top = self.y[indices]\n",
    "            final_prediction = y_train_top.mean()\n",
    "            predictions.append(final_prediction)\n",
    "        return predictions\n",
    "            \n",
    "    "
   ]
  },
  {
   "cell_type": "code",
   "execution_count": 7,
   "metadata": {
    "ExecuteTime": {
     "end_time": "2021-02-23T10:24:22.842519Z",
     "start_time": "2021-02-23T10:24:22.832206Z"
    }
   },
   "outputs": [
    {
     "data": {
      "text/plain": [
       "array([3, 0, 1])"
      ]
     },
     "execution_count": 7,
     "metadata": {},
     "output_type": "execute_result"
    }
   ],
   "source": [
    "np.argpartition([3,4,6,2,4.1], 3)[:3]"
   ]
  },
  {
   "cell_type": "code",
   "execution_count": 8,
   "metadata": {
    "ExecuteTime": {
     "end_time": "2021-02-23T10:15:59.449195Z",
     "start_time": "2021-02-23T10:15:59.442142Z"
    }
   },
   "outputs": [
    {
     "data": {
      "text/plain": [
       "array([-12,  -1])"
      ]
     },
     "execution_count": 8,
     "metadata": {},
     "output_type": "execute_result"
    }
   ],
   "source": [
    "np.array((17,  1)) - np.array((29,  2))"
   ]
  },
  {
   "cell_type": "code",
   "execution_count": 9,
   "metadata": {
    "ExecuteTime": {
     "end_time": "2021-02-23T10:16:09.193050Z",
     "start_time": "2021-02-23T10:16:09.141540Z"
    }
   },
   "outputs": [
    {
     "data": {
      "text/plain": [
       "12.041594578792296"
      ]
     },
     "execution_count": 9,
     "metadata": {},
     "output_type": "execute_result"
    }
   ],
   "source": [
    "norm(np.array((17,  1)) - np.array((29,  2)))"
   ]
  },
  {
   "cell_type": "code",
   "execution_count": null,
   "metadata": {
    "ExecuteTime": {
     "end_time": "2021-02-23T09:58:23.298188Z",
     "start_time": "2021-02-23T09:58:23.293088Z"
    }
   },
   "outputs": [],
   "source": []
  },
  {
   "cell_type": "code",
   "execution_count": 10,
   "metadata": {
    "ExecuteTime": {
     "end_time": "2021-02-23T10:05:25.223677Z",
     "start_time": "2021-02-23T10:05:25.217252Z"
    }
   },
   "outputs": [],
   "source": [
    "X = data[:, :2]\n",
    "y = data[:, -1]"
   ]
  },
  {
   "cell_type": "code",
   "execution_count": 11,
   "metadata": {
    "ExecuteTime": {
     "end_time": "2021-02-23T10:05:54.904086Z",
     "start_time": "2021-02-23T10:05:54.886743Z"
    }
   },
   "outputs": [],
   "source": [
    "X_train, X_test, y_train, y_test = train_test_split(X, y, test_size=0.20)"
   ]
  },
  {
   "cell_type": "code",
   "execution_count": 12,
   "metadata": {
    "ExecuteTime": {
     "end_time": "2021-02-23T10:06:15.227415Z",
     "start_time": "2021-02-23T10:06:15.221226Z"
    }
   },
   "outputs": [
    {
     "data": {
      "text/plain": [
       "array([23, 36])"
      ]
     },
     "execution_count": 12,
     "metadata": {},
     "output_type": "execute_result"
    }
   ],
   "source": [
    "y_test"
   ]
  },
  {
   "cell_type": "code",
   "execution_count": 13,
   "metadata": {
    "ExecuteTime": {
     "end_time": "2021-02-23T10:31:18.157876Z",
     "start_time": "2021-02-23T10:31:18.153774Z"
    }
   },
   "outputs": [
    {
     "data": {
      "text/plain": [
       "array([[ 3, 48],\n",
       "       [ 7, 46]])"
      ]
     },
     "execution_count": 13,
     "metadata": {},
     "output_type": "execute_result"
    }
   ],
   "source": [
    "X_test"
   ]
  },
  {
   "cell_type": "code",
   "execution_count": 14,
   "metadata": {
    "ExecuteTime": {
     "end_time": "2021-02-23T10:31:51.539878Z",
     "start_time": "2021-02-23T10:31:51.534561Z"
    }
   },
   "outputs": [],
   "source": [
    "knn = KNNRegressor(k=3)"
   ]
  },
  {
   "cell_type": "code",
   "execution_count": 15,
   "metadata": {
    "ExecuteTime": {
     "end_time": "2021-02-23T10:31:52.028679Z",
     "start_time": "2021-02-23T10:31:52.009763Z"
    }
   },
   "outputs": [],
   "source": [
    "knn.fit(X, y)"
   ]
  },
  {
   "cell_type": "code",
   "execution_count": 16,
   "metadata": {
    "ExecuteTime": {
     "end_time": "2021-02-23T10:31:53.641256Z",
     "start_time": "2021-02-23T10:31:53.635506Z"
    }
   },
   "outputs": [
    {
     "data": {
      "text/plain": [
       "[28.333333333333332, 28.333333333333332]"
      ]
     },
     "execution_count": 16,
     "metadata": {},
     "output_type": "execute_result"
    }
   ],
   "source": [
    "knn.predict(X_test)"
   ]
  },
  {
   "cell_type": "code",
   "execution_count": 21,
   "metadata": {},
   "outputs": [
    {
     "data": {
      "text/plain": [
       "[42.666666666666664,\n",
       " 28.0,\n",
       " 25.0,\n",
       " 38.333333333333336,\n",
       " 22.333333333333332,\n",
       " 42.666666666666664,\n",
       " 25.0,\n",
       " 28.333333333333332]"
      ]
     },
     "execution_count": 21,
     "metadata": {},
     "output_type": "execute_result"
    }
   ],
   "source": [
    "knn.predict(X_train)"
   ]
  },
  {
   "cell_type": "code",
   "execution_count": 22,
   "metadata": {},
   "outputs": [
    {
     "data": {
      "text/plain": [
       "[42.666666666666664,\n",
       " 38.333333333333336,\n",
       " 28.666666666666668,\n",
       " 42.666666666666664,\n",
       " 38.333333333333336,\n",
       " 42.666666666666664,\n",
       " 38.333333333333336,\n",
       " 38.333333333333336]"
      ]
     },
     "execution_count": 22,
     "metadata": {},
     "output_type": "execute_result"
    }
   ],
   "source": [
    "knn.predict(y_train)"
   ]
  },
  {
   "cell_type": "code",
   "execution_count": 23,
   "metadata": {},
   "outputs": [
    {
     "data": {
      "text/plain": [
       "[30.666666666666668, 42.666666666666664]"
      ]
     },
     "execution_count": 23,
     "metadata": {},
     "output_type": "execute_result"
    }
   ],
   "source": [
    "knn.predict(y_test)"
   ]
  },
  {
   "cell_type": "code",
   "execution_count": null,
   "metadata": {},
   "outputs": [],
   "source": []
  }
 ],
 "metadata": {
  "kernelspec": {
   "display_name": "Python 3",
   "language": "python",
   "name": "python3"
  },
  "language_info": {
   "codemirror_mode": {
    "name": "ipython",
    "version": 3
   },
   "file_extension": ".py",
   "mimetype": "text/x-python",
   "name": "python",
   "nbconvert_exporter": "python",
   "pygments_lexer": "ipython3",
   "version": "3.8.5"
  },
  "toc": {
   "base_numbering": 1,
   "nav_menu": {},
   "number_sections": true,
   "sideBar": true,
   "skip_h1_title": false,
   "title_cell": "Table of Contents",
   "title_sidebar": "Contents",
   "toc_cell": false,
   "toc_position": {},
   "toc_section_display": true,
   "toc_window_display": false
  }
 },
 "nbformat": 4,
 "nbformat_minor": 4
}
