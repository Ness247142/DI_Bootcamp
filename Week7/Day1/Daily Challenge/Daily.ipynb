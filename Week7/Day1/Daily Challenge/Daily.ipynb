{
 "cells": [
  {
   "cell_type": "code",
   "execution_count": 1,
   "metadata": {},
   "outputs": [
    {
     "name": "stdout",
     "output_type": "stream",
     "text": [
      "[[14 54 59 48 68]\n",
      " [42 64 30 53 36]\n",
      " [15 10  6 64 37]\n",
      " [40 17 54  5 20]\n",
      " [35 62 53 39 73]]\n"
     ]
    }
   ],
   "source": [
    "import numpy as np\n",
    "a = np.random.randint(1, 100, size=(5, 5))\n",
    "print(a)"
   ]
  },
  {
   "cell_type": "code",
   "execution_count": 2,
   "metadata": {},
   "outputs": [
    {
     "name": "stdout",
     "output_type": "stream",
     "text": [
      "[15 10  6 64 37]\n"
     ]
    }
   ],
   "source": [
    "row = a[2]\n",
    "print(row)"
   ]
  },
  {
   "cell_type": "code",
   "execution_count": 3,
   "metadata": {},
   "outputs": [
    {
     "name": "stdout",
     "output_type": "stream",
     "text": [
      "[59 30  6 54 53]\n"
     ]
    }
   ],
   "source": [
    "column = a[:, 2]\n",
    "print(column)"
   ]
  },
  {
   "cell_type": "code",
   "execution_count": 4,
   "metadata": {},
   "outputs": [
    {
     "name": "stdout",
     "output_type": "stream",
     "text": [
      "[[14 54 59 48 68]\n",
      " [42 64 30 53 36]\n",
      " [15 10  6 64 37]\n",
      " [40 17 54  5 20]\n",
      " [ 7  7  7  7  7]]\n"
     ]
    }
   ],
   "source": [
    "a[4] = [7, 7, 7, 7, 7]\n",
    "print(a)"
   ]
  },
  {
   "cell_type": "code",
   "execution_count": 5,
   "metadata": {},
   "outputs": [
    {
     "name": "stdout",
     "output_type": "stream",
     "text": [
      "[[ 14  54  59  48  68]\n",
      " [ 42  64  30  53 106]\n",
      " [ 15  10   6  64  25]\n",
      " [ 40  17  54   5  57]\n",
      " [  7   7   7   7  14]]\n"
     ]
    }
   ],
   "source": [
    "a[:, 4] = a[:, 0] + a[:, 1]\n",
    "print(a)"
   ]
  },
  {
   "cell_type": "code",
   "execution_count": null,
   "metadata": {},
   "outputs": [],
   "source": []
  }
 ],
 "metadata": {
  "kernelspec": {
   "display_name": "Python 3",
   "language": "python",
   "name": "python3"
  },
  "language_info": {
   "codemirror_mode": {
    "name": "ipython",
    "version": 3
   },
   "file_extension": ".py",
   "mimetype": "text/x-python",
   "name": "python",
   "nbconvert_exporter": "python",
   "pygments_lexer": "ipython3",
   "version": "3.8.5"
  }
 },
 "nbformat": 4,
 "nbformat_minor": 4
}
