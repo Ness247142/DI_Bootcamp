{
 "cells": [
  {
   "cell_type": "code",
   "execution_count": 3,
   "metadata": {
    "ExecuteTime": {
     "end_time": "2021-02-21T07:52:51.306254Z",
     "start_time": "2021-02-21T07:52:51.032121Z"
    }
   },
   "outputs": [],
   "source": [
    "import numpy as np"
   ]
  },
  {
   "cell_type": "code",
   "execution_count": null,
   "metadata": {},
   "outputs": [],
   "source": []
  },
  {
   "cell_type": "code",
   "execution_count": 1,
   "metadata": {
    "ExecuteTime": {
     "end_time": "2021-02-21T07:43:29.788074Z",
     "start_time": "2021-02-21T07:43:29.750257Z"
    }
   },
   "outputs": [],
   "source": [
    "[\n",
    "    [\"Yonah\", \"Dallas\", \"Hyacinth\"],\n",
    "    [\"Yonah\", \"Dallas\", \"Hyacinth\"], \n",
    "    []\n",
    "]"
   ]
  },
  {
   "cell_type": "code",
   "execution_count": 4,
   "metadata": {
    "ExecuteTime": {
     "end_time": "2021-02-21T07:53:20.756001Z",
     "start_time": "2021-02-21T07:53:20.750311Z"
    }
   },
   "outputs": [],
   "source": [
    "lst = [1,2,3,4,5]"
   ]
  },
  {
   "cell_type": "code",
   "execution_count": 5,
   "metadata": {
    "ExecuteTime": {
     "end_time": "2021-02-21T07:53:24.896642Z",
     "start_time": "2021-02-21T07:53:24.892572Z"
    }
   },
   "outputs": [
    {
     "data": {
      "text/plain": [
       "[1, 2, 3, 4, 5]"
      ]
     },
     "execution_count": 5,
     "metadata": {},
     "output_type": "execute_result"
    }
   ],
   "source": [
    "lst"
   ]
  },
  {
   "cell_type": "code",
   "execution_count": 6,
   "metadata": {
    "ExecuteTime": {
     "end_time": "2021-02-21T07:53:48.241139Z",
     "start_time": "2021-02-21T07:53:48.227329Z"
    }
   },
   "outputs": [],
   "source": [
    "lst_np = np.array(lst)"
   ]
  },
  {
   "cell_type": "code",
   "execution_count": 9,
   "metadata": {
    "ExecuteTime": {
     "end_time": "2021-02-21T07:54:19.747870Z",
     "start_time": "2021-02-21T07:54:19.740002Z"
    }
   },
   "outputs": [
    {
     "data": {
      "text/plain": [
       "array([1, 2, 3, 4, 5])"
      ]
     },
     "execution_count": 9,
     "metadata": {},
     "output_type": "execute_result"
    }
   ],
   "source": [
    "lst_np"
   ]
  },
  {
   "cell_type": "code",
   "execution_count": 10,
   "metadata": {
    "ExecuteTime": {
     "end_time": "2021-02-21T07:58:10.291288Z",
     "start_time": "2021-02-21T07:58:10.285441Z"
    }
   },
   "outputs": [],
   "source": [
    "twod_lst = [\n",
    "    [1,2,3],\n",
    "    [4,5,6]\n",
    "]"
   ]
  },
  {
   "cell_type": "code",
   "execution_count": 13,
   "metadata": {
    "ExecuteTime": {
     "end_time": "2021-02-21T07:58:30.772174Z",
     "start_time": "2021-02-21T07:58:30.766023Z"
    }
   },
   "outputs": [
    {
     "data": {
      "text/plain": [
       "array([[1, 2, 3],\n",
       "       [4, 5, 6]])"
      ]
     },
     "execution_count": 13,
     "metadata": {},
     "output_type": "execute_result"
    }
   ],
   "source": [
    "twod_lst_np = np.array(twod_lst)\n",
    "twod_lst_np"
   ]
  },
  {
   "cell_type": "code",
   "execution_count": 14,
   "metadata": {
    "ExecuteTime": {
     "end_time": "2021-02-21T07:58:41.842952Z",
     "start_time": "2021-02-21T07:58:41.823549Z"
    }
   },
   "outputs": [
    {
     "data": {
      "text/plain": [
       "(2, 3)"
      ]
     },
     "execution_count": 14,
     "metadata": {},
     "output_type": "execute_result"
    }
   ],
   "source": [
    "twod_lst_np.shape"
   ]
  },
  {
   "cell_type": "code",
   "execution_count": 15,
   "metadata": {
    "ExecuteTime": {
     "end_time": "2021-02-21T07:59:35.765718Z",
     "start_time": "2021-02-21T07:59:35.757250Z"
    }
   },
   "outputs": [
    {
     "data": {
      "text/plain": [
       "(5,)"
      ]
     },
     "execution_count": 15,
     "metadata": {},
     "output_type": "execute_result"
    }
   ],
   "source": [
    "lst_np.shape"
   ]
  },
  {
   "cell_type": "code",
   "execution_count": 18,
   "metadata": {
    "ExecuteTime": {
     "end_time": "2021-02-21T08:03:02.564167Z",
     "start_time": "2021-02-21T08:03:02.557194Z"
    }
   },
   "outputs": [
    {
     "data": {
      "text/plain": [
       "array([[1, 2],\n",
       "       [3, 4],\n",
       "       [5, 6]])"
      ]
     },
     "execution_count": 18,
     "metadata": {},
     "output_type": "execute_result"
    }
   ],
   "source": [
    "twod_lst_np.reshape((-1,2))"
   ]
  },
  {
   "cell_type": "code",
   "execution_count": 19,
   "metadata": {
    "ExecuteTime": {
     "end_time": "2021-02-21T08:03:55.219087Z",
     "start_time": "2021-02-21T08:03:55.188518Z"
    }
   },
   "outputs": [
    {
     "data": {
      "text/plain": [
       "array([1, 2, 3, 4, 5])"
      ]
     },
     "execution_count": 19,
     "metadata": {},
     "output_type": "execute_result"
    }
   ],
   "source": [
    "lst_np"
   ]
  },
  {
   "cell_type": "code",
   "execution_count": 23,
   "metadata": {
    "ExecuteTime": {
     "end_time": "2021-02-21T08:04:38.951648Z",
     "start_time": "2021-02-21T08:04:38.938641Z"
    }
   },
   "outputs": [
    {
     "data": {
      "text/plain": [
       "array([[1, 2, 3],\n",
       "       [4, 5, 6]])"
      ]
     },
     "execution_count": 23,
     "metadata": {},
     "output_type": "execute_result"
    }
   ],
   "source": [
    "twod_lst_np"
   ]
  },
  {
   "cell_type": "code",
   "execution_count": 26,
   "metadata": {
    "ExecuteTime": {
     "end_time": "2021-02-21T08:06:14.115593Z",
     "start_time": "2021-02-21T08:06:14.109237Z"
    }
   },
   "outputs": [
    {
     "data": {
      "text/plain": [
       "1"
      ]
     },
     "execution_count": 26,
     "metadata": {},
     "output_type": "execute_result"
    }
   ],
   "source": [
    "#twod_lst_np[0,0] == twod_lst_np[0][0]"
   ]
  },
  {
   "cell_type": "code",
   "execution_count": 28,
   "metadata": {
    "ExecuteTime": {
     "end_time": "2021-02-21T08:08:15.391473Z",
     "start_time": "2021-02-21T08:08:15.386739Z"
    }
   },
   "outputs": [
    {
     "data": {
      "text/plain": [
       "array([1, 4])"
      ]
     },
     "execution_count": 28,
     "metadata": {},
     "output_type": "execute_result"
    }
   ],
   "source": [
    "twod_lst_np[:, 0]"
   ]
  },
  {
   "cell_type": "code",
   "execution_count": 30,
   "metadata": {
    "ExecuteTime": {
     "end_time": "2021-02-21T08:09:55.189369Z",
     "start_time": "2021-02-21T08:09:55.174663Z"
    }
   },
   "outputs": [
    {
     "data": {
      "text/plain": [
       "[0, 1, 2, 3, 4, 5, 6, 7, 8, 9]"
      ]
     },
     "execution_count": 30,
     "metadata": {},
     "output_type": "execute_result"
    }
   ],
   "source": [
    "list(range(10))"
   ]
  },
  {
   "cell_type": "code",
   "execution_count": 37,
   "metadata": {
    "ExecuteTime": {
     "end_time": "2021-02-21T08:12:14.380212Z",
     "start_time": "2021-02-21T08:12:14.372306Z"
    }
   },
   "outputs": [
    {
     "data": {
      "text/plain": [
       "array([ 0,  1,  2,  3,  4,  5,  6,  7,  8,  9, 10, 11, 12, 13, 14, 15, 16,\n",
       "       17, 18, 19, 20, 21, 22, 23, 24, 25, 26, 27, 28, 29, 30, 31, 32, 33,\n",
       "       34, 35, 36, 37, 38, 39, 40, 41, 42, 43, 44, 45, 46, 47, 48, 49, 50,\n",
       "       51, 52, 53, 54, 55, 56, 57, 58, 59, 60, 61, 62, 63, 64, 65, 66, 67,\n",
       "       68, 69, 70, 71, 72, 73, 74, 75, 76, 77, 78, 79, 80, 81, 82, 83, 84,\n",
       "       85, 86, 87, 88, 89, 90, 91, 92, 93, 94, 95, 96, 97, 98, 99])"
      ]
     },
     "execution_count": 37,
     "metadata": {},
     "output_type": "execute_result"
    }
   ],
   "source": [
    "np.arange(100)"
   ]
  },
  {
   "cell_type": "code",
   "execution_count": 40,
   "metadata": {
    "ExecuteTime": {
     "end_time": "2021-02-21T08:12:44.952962Z",
     "start_time": "2021-02-21T08:12:44.945510Z"
    }
   },
   "outputs": [
    {
     "data": {
      "text/plain": [
       "array([[ 0,  1,  2,  3,  4],\n",
       "       [ 5,  6,  7,  8,  9],\n",
       "       [10, 11, 12, 13, 14],\n",
       "       [15, 16, 17, 18, 19],\n",
       "       [20, 21, 22, 23, 24],\n",
       "       [25, 26, 27, 28, 29],\n",
       "       [30, 31, 32, 33, 34],\n",
       "       [35, 36, 37, 38, 39],\n",
       "       [40, 41, 42, 43, 44],\n",
       "       [45, 46, 47, 48, 49],\n",
       "       [50, 51, 52, 53, 54],\n",
       "       [55, 56, 57, 58, 59],\n",
       "       [60, 61, 62, 63, 64],\n",
       "       [65, 66, 67, 68, 69],\n",
       "       [70, 71, 72, 73, 74],\n",
       "       [75, 76, 77, 78, 79],\n",
       "       [80, 81, 82, 83, 84],\n",
       "       [85, 86, 87, 88, 89],\n",
       "       [90, 91, 92, 93, 94],\n",
       "       [95, 96, 97, 98, 99]])"
      ]
     },
     "execution_count": 40,
     "metadata": {},
     "output_type": "execute_result"
    }
   ],
   "source": [
    "matrix = np.arange(100).reshape((20, 5))\n",
    "matrix"
   ]
  },
  {
   "cell_type": "code",
   "execution_count": 63,
   "metadata": {
    "ExecuteTime": {
     "end_time": "2021-02-21T08:25:00.145874Z",
     "start_time": "2021-02-21T08:25:00.136694Z"
    }
   },
   "outputs": [
    {
     "data": {
      "text/plain": [
       "array([[  1,   3,   5,   7,   9],\n",
       "       [ 11,  13,  15,  17,  19],\n",
       "       [ 21,  23,  25,  27,  29],\n",
       "       [ 31,  33,  35,  37,  39],\n",
       "       [ 41,  43,  45,  47,  49],\n",
       "       [ 51,  53,  55,  57,  59],\n",
       "       [ 61,  63,  65,  67,  69],\n",
       "       [ 71,  73,  75,  77,  79],\n",
       "       [ 81,  83,  85,  87,  89],\n",
       "       [ 91,  93,  95,  97,  99],\n",
       "       [101, 103, 105, 107, 109],\n",
       "       [111, 113, 115, 117, 119],\n",
       "       [121, 123, 125, 127, 129],\n",
       "       [131, 133, 135, 137, 139],\n",
       "       [141, 143, 145, 147, 149],\n",
       "       [151, 153, 155, 157, 159],\n",
       "       [161, 163, 165, 167, 169],\n",
       "       [171, 173, 175, 177, 179],\n",
       "       [181, 183, 185, 187, 189],\n",
       "       [191, 193, 195, 197, 199]])"
      ]
     },
     "execution_count": 63,
     "metadata": {},
     "output_type": "execute_result"
    }
   ],
   "source": [
    "matrix2 = np.arange(1, 200, 2).reshape((20, 5))\n",
    "matrix2"
   ]
  },
  {
   "cell_type": "code",
   "execution_count": 68,
   "metadata": {
    "ExecuteTime": {
     "end_time": "2021-02-21T08:27:10.153131Z",
     "start_time": "2021-02-21T08:27:10.107163Z"
    }
   },
   "outputs": [
    {
     "data": {
      "text/plain": [
       "array([0.        , 0.38461538, 0.43478261, 0.45454545, 0.46511628,\n",
       "       0.47169811, 0.47619048, 0.47945205, 0.48192771, 0.48387097,\n",
       "       0.48543689, 0.48672566, 0.48780488, 0.4887218 , 0.48951049,\n",
       "       0.49019608, 0.49079755, 0.49132948, 0.49180328, 0.49222798])"
      ]
     },
     "execution_count": 68,
     "metadata": {},
     "output_type": "execute_result"
    }
   ],
   "source": [
    "matrix[:, 0] / matrix2[:,1]"
   ]
  },
  {
   "cell_type": "code",
   "execution_count": null,
   "metadata": {},
   "outputs": [],
   "source": []
  },
  {
   "cell_type": "code",
   "execution_count": 72,
   "metadata": {
    "ExecuteTime": {
     "end_time": "2021-02-21T08:31:31.879118Z",
     "start_time": "2021-02-21T08:31:31.873190Z"
    }
   },
   "outputs": [
    {
     "data": {
      "text/plain": [
       "array([[ 1210,  1230,  1250,  1270,  1290,  1310,  1330,  1350,  1370,\n",
       "         1390,  1410,  1430,  1450,  1470,  1490,  1510,  1530,  1550,\n",
       "         1570,  1590],\n",
       "       [ 3235,  3305,  3375,  3445,  3515,  3585,  3655,  3725,  3795,\n",
       "         3865,  3935,  4005,  4075,  4145,  4215,  4285,  4355,  4425,\n",
       "         4495,  4565],\n",
       "       [ 5260,  5380,  5500,  5620,  5740,  5860,  5980,  6100,  6220,\n",
       "         6340,  6460,  6580,  6700,  6820,  6940,  7060,  7180,  7300,\n",
       "         7420,  7540],\n",
       "       [ 7285,  7455,  7625,  7795,  7965,  8135,  8305,  8475,  8645,\n",
       "         8815,  8985,  9155,  9325,  9495,  9665,  9835, 10005, 10175,\n",
       "        10345, 10515],\n",
       "       [ 9310,  9530,  9750,  9970, 10190, 10410, 10630, 10850, 11070,\n",
       "        11290, 11510, 11730, 11950, 12170, 12390, 12610, 12830, 13050,\n",
       "        13270, 13490],\n",
       "       [11335, 11605, 11875, 12145, 12415, 12685, 12955, 13225, 13495,\n",
       "        13765, 14035, 14305, 14575, 14845, 15115, 15385, 15655, 15925,\n",
       "        16195, 16465],\n",
       "       [13360, 13680, 14000, 14320, 14640, 14960, 15280, 15600, 15920,\n",
       "        16240, 16560, 16880, 17200, 17520, 17840, 18160, 18480, 18800,\n",
       "        19120, 19440],\n",
       "       [15385, 15755, 16125, 16495, 16865, 17235, 17605, 17975, 18345,\n",
       "        18715, 19085, 19455, 19825, 20195, 20565, 20935, 21305, 21675,\n",
       "        22045, 22415],\n",
       "       [17410, 17830, 18250, 18670, 19090, 19510, 19930, 20350, 20770,\n",
       "        21190, 21610, 22030, 22450, 22870, 23290, 23710, 24130, 24550,\n",
       "        24970, 25390],\n",
       "       [19435, 19905, 20375, 20845, 21315, 21785, 22255, 22725, 23195,\n",
       "        23665, 24135, 24605, 25075, 25545, 26015, 26485, 26955, 27425,\n",
       "        27895, 28365],\n",
       "       [21460, 21980, 22500, 23020, 23540, 24060, 24580, 25100, 25620,\n",
       "        26140, 26660, 27180, 27700, 28220, 28740, 29260, 29780, 30300,\n",
       "        30820, 31340],\n",
       "       [23485, 24055, 24625, 25195, 25765, 26335, 26905, 27475, 28045,\n",
       "        28615, 29185, 29755, 30325, 30895, 31465, 32035, 32605, 33175,\n",
       "        33745, 34315],\n",
       "       [25510, 26130, 26750, 27370, 27990, 28610, 29230, 29850, 30470,\n",
       "        31090, 31710, 32330, 32950, 33570, 34190, 34810, 35430, 36050,\n",
       "        36670, 37290],\n",
       "       [27535, 28205, 28875, 29545, 30215, 30885, 31555, 32225, 32895,\n",
       "        33565, 34235, 34905, 35575, 36245, 36915, 37585, 38255, 38925,\n",
       "        39595, 40265],\n",
       "       [29560, 30280, 31000, 31720, 32440, 33160, 33880, 34600, 35320,\n",
       "        36040, 36760, 37480, 38200, 38920, 39640, 40360, 41080, 41800,\n",
       "        42520, 43240],\n",
       "       [31585, 32355, 33125, 33895, 34665, 35435, 36205, 36975, 37745,\n",
       "        38515, 39285, 40055, 40825, 41595, 42365, 43135, 43905, 44675,\n",
       "        45445, 46215],\n",
       "       [33610, 34430, 35250, 36070, 36890, 37710, 38530, 39350, 40170,\n",
       "        40990, 41810, 42630, 43450, 44270, 45090, 45910, 46730, 47550,\n",
       "        48370, 49190],\n",
       "       [35635, 36505, 37375, 38245, 39115, 39985, 40855, 41725, 42595,\n",
       "        43465, 44335, 45205, 46075, 46945, 47815, 48685, 49555, 50425,\n",
       "        51295, 52165],\n",
       "       [37660, 38580, 39500, 40420, 41340, 42260, 43180, 44100, 45020,\n",
       "        45940, 46860, 47780, 48700, 49620, 50540, 51460, 52380, 53300,\n",
       "        54220, 55140],\n",
       "       [39685, 40655, 41625, 42595, 43565, 44535, 45505, 46475, 47445,\n",
       "        48415, 49385, 50355, 51325, 52295, 53265, 54235, 55205, 56175,\n",
       "        57145, 58115]])"
      ]
     },
     "execution_count": 72,
     "metadata": {},
     "output_type": "execute_result"
    }
   ],
   "source": [
    "np.dot(matrix, matrix2.reshape((5, 20)))"
   ]
  },
  {
   "cell_type": "code",
   "execution_count": 73,
   "metadata": {
    "ExecuteTime": {
     "end_time": "2021-02-21T08:33:03.035244Z",
     "start_time": "2021-02-21T08:33:03.031195Z"
    }
   },
   "outputs": [],
   "source": [
    "None"
   ]
  },
  {
   "cell_type": "code",
   "execution_count": null,
   "metadata": {},
   "outputs": [],
   "source": []
  },
  {
   "cell_type": "code",
   "execution_count": 44,
   "metadata": {
    "ExecuteTime": {
     "end_time": "2021-02-21T08:15:44.811048Z",
     "start_time": "2021-02-21T08:15:44.761307Z"
    }
   },
   "outputs": [
    {
     "data": {
      "text/plain": [
       "array([1, 2, 3, 4, 5])"
      ]
     },
     "execution_count": 44,
     "metadata": {},
     "output_type": "execute_result"
    }
   ],
   "source": [
    "lst_np"
   ]
  },
  {
   "cell_type": "code",
   "execution_count": 47,
   "metadata": {
    "ExecuteTime": {
     "end_time": "2021-02-21T08:16:46.094952Z",
     "start_time": "2021-02-21T08:16:46.086438Z"
    }
   },
   "outputs": [
    {
     "data": {
      "text/plain": [
       "3.0"
      ]
     },
     "execution_count": 47,
     "metadata": {},
     "output_type": "execute_result"
    }
   ],
   "source": [
    "lst_np.mean()"
   ]
  },
  {
   "cell_type": "code",
   "execution_count": 49,
   "metadata": {
    "ExecuteTime": {
     "end_time": "2021-02-21T08:17:26.208287Z",
     "start_time": "2021-02-21T08:17:26.162861Z"
    }
   },
   "outputs": [
    {
     "data": {
      "text/plain": [
       "3.0"
      ]
     },
     "execution_count": 49,
     "metadata": {},
     "output_type": "execute_result"
    }
   ],
   "source": [
    "np.median(lst_np)"
   ]
  },
  {
   "cell_type": "code",
   "execution_count": 51,
   "metadata": {
    "ExecuteTime": {
     "end_time": "2021-02-21T08:17:56.271698Z",
     "start_time": "2021-02-21T08:17:56.263441Z"
    }
   },
   "outputs": [
    {
     "data": {
      "text/plain": [
       "5"
      ]
     },
     "execution_count": 51,
     "metadata": {},
     "output_type": "execute_result"
    }
   ],
   "source": [
    "lst_np.max()"
   ]
  },
  {
   "cell_type": "code",
   "execution_count": 53,
   "metadata": {
    "ExecuteTime": {
     "end_time": "2021-02-21T08:18:25.124199Z",
     "start_time": "2021-02-21T08:18:25.118956Z"
    }
   },
   "outputs": [
    {
     "data": {
      "text/plain": [
       "3.0"
      ]
     },
     "execution_count": 53,
     "metadata": {},
     "output_type": "execute_result"
    }
   ],
   "source": []
  },
  {
   "cell_type": "code",
   "execution_count": 59,
   "metadata": {
    "ExecuteTime": {
     "end_time": "2021-02-21T08:23:23.840360Z",
     "start_time": "2021-02-21T08:23:23.809546Z"
    }
   },
   "outputs": [
    {
     "data": {
      "text/plain": [
       "array([1, 2, 3, 4, 5])"
      ]
     },
     "execution_count": 59,
     "metadata": {},
     "output_type": "execute_result"
    }
   ],
   "source": [
    "lst_np"
   ]
  },
  {
   "cell_type": "markdown",
   "metadata": {},
   "source": [
    "## Exercise  solution"
   ]
  },
  {
   "cell_type": "code",
   "execution_count": 74,
   "metadata": {
    "ExecuteTime": {
     "end_time": "2021-02-21T08:45:38.884833Z",
     "start_time": "2021-02-21T08:45:38.876852Z"
    }
   },
   "outputs": [],
   "source": [
    "def func(np_arr):\n",
    "    print(np_arr.min())\n",
    "    print(np.std(np_arr))\n",
    "    print(np.prod(np_arr))\n",
    "    print(np.dot(np_arr, np_arr))\n",
    "    print(np_arr - 4)\n",
    "    \n",
    "    \n",
    "    \n",
    "    "
   ]
  },
  {
   "cell_type": "code",
   "execution_count": 75,
   "metadata": {
    "ExecuteTime": {
     "end_time": "2021-02-21T08:45:58.326557Z",
     "start_time": "2021-02-21T08:45:58.322576Z"
    }
   },
   "outputs": [],
   "source": [
    "arr = np.array([3,4,22,45,8])"
   ]
  },
  {
   "cell_type": "code",
   "execution_count": 76,
   "metadata": {
    "ExecuteTime": {
     "end_time": "2021-02-21T08:46:03.669166Z",
     "start_time": "2021-02-21T08:46:03.658674Z"
    }
   },
   "outputs": [
    {
     "name": "stdout",
     "output_type": "stream",
     "text": [
      "3\n",
      "15.83161394173064\n",
      "95040\n",
      "2598\n",
      "[-1  0 18 41  4]\n"
     ]
    }
   ],
   "source": [
    "func(arr)"
   ]
  },
  {
   "cell_type": "code",
   "execution_count": null,
   "metadata": {},
   "outputs": [],
   "source": []
  }
 ],
 "metadata": {
  "kernelspec": {
   "display_name": "Python 3",
   "language": "python",
   "name": "python3"
  },
  "language_info": {
   "codemirror_mode": {
    "name": "ipython",
    "version": 3
   },
   "file_extension": ".py",
   "mimetype": "text/x-python",
   "name": "python",
   "nbconvert_exporter": "python",
   "pygments_lexer": "ipython3",
   "version": "3.6.8"
  },
  "toc": {
   "base_numbering": 1,
   "nav_menu": {},
   "number_sections": true,
   "sideBar": true,
   "skip_h1_title": false,
   "title_cell": "Table of Contents",
   "title_sidebar": "Contents",
   "toc_cell": false,
   "toc_position": {},
   "toc_section_display": true,
   "toc_window_display": false
  }
 },
 "nbformat": 4,
 "nbformat_minor": 4
}
